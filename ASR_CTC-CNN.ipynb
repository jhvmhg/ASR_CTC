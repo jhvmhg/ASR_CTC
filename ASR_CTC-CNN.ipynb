{
 "cells": [
  {
   "cell_type": "code",
   "execution_count": 1,
   "metadata": {},
   "outputs": [
    {
     "name": "stderr",
     "output_type": "stream",
     "text": [
      "################################################################################\n",
      "### WARNING, path does not exist: KALDI_ROOT=/mnt/matylda5/iveselyk/Tools/kaldi-trunk\n",
      "###          (please add 'export KALDI_ROOT=<your_path>' in your $HOME/.profile)\n",
      "###          (or run as: KALDI_ROOT=<your_path> python <your_script>.py)\n",
      "################################################################################\n",
      "\n"
     ]
    }
   ],
   "source": [
    "import os\n",
    "import random\n",
    "from io import open\n",
    "import unicodedata\n",
    "import string\n",
    "import re\n",
    "\n",
    "import torch\n",
    "import numpy as np\n",
    "import matplotlib.pyplot as plt\n",
    "from torch.utils.data import Dataset, DataLoader\n",
    "from torch import nn\n",
    "from torch import optim\n",
    "import torch.nn.functional as F\n",
    "from torch.nn.utils.rnn import pack_padded_sequence, pad_packed_sequence\n",
    "from pathlib import Path\n",
    "import kaldi_io\n",
    "import sys\n",
    "import gc\n",
    "import json\n",
    "import time\n",
    "from data_4 import AudioDataLoader, AudioDataset, pad_list\n",
    "\n",
    "%matplotlib inline\n",
    "\n",
    "print_use = False"
   ]
  },
  {
   "cell_type": "code",
   "execution_count": 2,
   "metadata": {},
   "outputs": [],
   "source": [
    "# train_json = \"data.json\"\n",
    "# test_json = \"data_test.json\"\n",
    "train_json=\"/home1/meichaoyang/workspace/git/Listen-Attend-Spell/egs/aishell2/dump/train/deltatrue/data.json\"\n",
    "test_json=\"/home1/meichaoyang/workspace/git/Listen-Attend-Spell/egs/aishell2/dump/test/deltatrue/data.json\"\n",
    "batch_size = 32\n",
    "maxlen_in = 100000\n",
    "maxlen_out = 30\n",
    "num_workers = 4"
   ]
  },
  {
   "cell_type": "code",
   "execution_count": 3,
   "metadata": {},
   "outputs": [],
   "source": [
    "os.environ[\"CUDA_VISIBLE_DEVICES\"]=\"0\"\n",
    "device = torch.device(\"cuda:0\" if torch.cuda.is_available() else \"cpu\")"
   ]
  },
  {
   "cell_type": "code",
   "execution_count": 4,
   "metadata": {},
   "outputs": [],
   "source": [
    "tr_dataset = AudioDataset(train_json, batch_size,\n",
    "                              maxlen_in, maxlen_out)\n",
    "tr_loader = AudioDataLoader(tr_dataset, batch_size=1, num_workers=num_workers)"
   ]
  },
  {
   "cell_type": "code",
   "execution_count": 5,
   "metadata": {},
   "outputs": [],
   "source": [
    "te_dataset = AudioDataset(test_json, batch_size,\n",
    "                              maxlen_in, maxlen_out)\n",
    "te_loader = AudioDataLoader(te_dataset, batch_size=1, num_workers=num_workers, shuffle=True)"
   ]
  },
  {
   "cell_type": "code",
   "execution_count": 6,
   "metadata": {},
   "outputs": [],
   "source": [
    "char_list = []\n",
    "char_list_path = \"/home1/meichaoyang/workspace/git/Listen-Attend-Spell/egs/aishell2/data/lang_1char/train_chars.txt\"\n",
    "with open(char_list_path, \"r\") as f:\n",
    "    for line in f:\n",
    "        data = line.split()\n",
    "        char_list.append(data[0])"
   ]
  },
  {
   "cell_type": "markdown",
   "metadata": {},
   "source": [
    "### 模型搭建"
   ]
  },
  {
   "cell_type": "code",
   "execution_count": 9,
   "metadata": {},
   "outputs": [],
   "source": [
    "class Encoder(nn.Module):\n",
    "    def __init__(self, input_size, hidden_size, vocab_size, bidirectional=False, dropout=0.0):\n",
    "        super(Encoder, self).__init__()\n",
    "        self.hidden_size = hidden_size\n",
    "        self.vocab_size = vocab_size\n",
    "        \n",
    "        self.cnn1 = nn.Conv2d(1, 128, (5, 3), stride=(2, 1), padding=(4, 2))\n",
    "        \n",
    "        self.cnn1_out_shape_h = (input_size.shape[0]+2*4-5)/2 + 1\n",
    "        self.cnn1_out_shape_w = (input_size.shape[1]+2*2-3)/1 + 1\n",
    "        \n",
    "        self.rnn = nn.LSTM(input_size, hidden_size, \n",
    "                           batch_first=True,\n",
    "                           dropout=dropout,\n",
    "                           bidirectional=bidirectional)\n",
    "        self.mlp = nn.Sequential(\n",
    "            nn.Linear(self.hidden_size*2,\n",
    "                      self.hidden_size),\n",
    "            nn.Tanh(),\n",
    "            nn.Linear(self.hidden_size, self.vocab_size))\n",
    "\n",
    "\n",
    "    def forward(self, padded_input, input_lengths):\n",
    "        \n",
    "        total_length = padded_input.size(1)  # get the max sequence length\n",
    "        packed_input = pack_padded_sequence(padded_input, input_lengths,\n",
    "                                            batch_first=True)\n",
    "        packed_output, hidden = self.rnn(packed_input)\n",
    "        rnn_output, _ = pad_packed_sequence(packed_output,\n",
    "                                        batch_first=True,\n",
    "                                        total_length=total_length)\n",
    "        predicted_y = self.mlp(rnn_output)\n",
    "        return predicted_y\n",
    "\n",
    "    def initHidden(self):\n",
    "        return torch.zeros(1, 1, self.hidden_size, device=device)\n"
   ]
  },
  {
   "cell_type": "code",
   "execution_count": 10,
   "metadata": {},
   "outputs": [],
   "source": [
    "class CTC_Model(nn.Module):\n",
    "    \n",
    "    def __init__(self, input_size, hidden_size, vocab_size, bidirectional=True, dropout=0.0):\n",
    "        super(CTC_Model, self).__init__()\n",
    "        \n",
    "        self.vocab_size = vocab_size\n",
    "        self.encoder = Encoder(input_size, hidden_size, vocab_size, bidirectional, dropout)\n",
    "        self.ctc_loss = nn.CTCLoss()\n",
    "    \n",
    "    def forward(self, padded_input, input_lengths, padded_target, target_lengths):\n",
    "        \n",
    "        encoder_output = self.encoder(padded_input, input_lengths)\n",
    "        encoder_output = torch.transpose(encoder_output,0,1)\n",
    "        ctc_input = encoder_output.log_softmax(2)\n",
    "        \n",
    "        loss = self.ctc_loss(ctc_input, padded_target, input_lengths, target_lengths)\n",
    "        \n",
    "        return loss"
   ]
  },
  {
   "cell_type": "markdown",
   "metadata": {},
   "source": [
    "### 训练"
   ]
  },
  {
   "cell_type": "code",
   "execution_count": 11,
   "metadata": {},
   "outputs": [],
   "source": [
    "import time\n",
    "import math\n",
    "\n",
    "\n",
    "def asMinutes(s):\n",
    "    m = math.floor(s / 60)\n",
    "    s -= m * 60\n",
    "    return '%dm %ds' % (m, s)\n",
    "\n",
    "\n",
    "def timeSince(since, percent):\n",
    "    now = time.time()\n",
    "    s = now - since\n",
    "    es = s / (percent)\n",
    "    rs = es - s\n",
    "    return '%s (- %s)' % (asMinutes(s), asMinutes(rs))"
   ]
  },
  {
   "cell_type": "code",
   "execution_count": 12,
   "metadata": {},
   "outputs": [],
   "source": [
    "def trainIters(model, epoch, optimizier, print_every=10, plot_every=10, learning_rate=0.01):\n",
    "\n",
    "    start = time.time()\n",
    "    n_iters = len(tr_dataset)\n",
    "    plot_losses = []\n",
    "    print_loss_total = 0  # Reset every print_every\n",
    "    plot_loss_total = 0  # Reset every plot_every\n",
    "\n",
    "    \n",
    "    criterion = nn.NLLLoss()\n",
    "\n",
    "    for e in range(epoch):\n",
    "        for i, (data) in enumerate(tr_loader):\n",
    "            padded_input, input_lengths, padded_target, target_lengths= data\n",
    "            padded_input = padded_input.cuda()\n",
    "            input_lengths = input_lengths.cuda()\n",
    "            padded_target = padded_target.cuda()\n",
    "            target_lengths = target_lengths.cuda()\n",
    "            loss = model(padded_input, input_lengths, padded_target, target_lengths)\n",
    "    #         print(loss) #.requires_grad\n",
    "            print_loss_total += float(loss)\n",
    "            plot_loss_total += float(loss)\n",
    "\n",
    "            optimizier.zero_grad()\n",
    "            loss.backward()\n",
    "\n",
    "            optimizier.step()\n",
    "\n",
    "            if (i+1) % print_every == 0:\n",
    "                print_loss_avg = print_loss_total / print_every\n",
    "                print_loss_total = 0\n",
    "                txt = 'Epoch %d | Iter %d | %s (%d %d%%) %.4f' % (e+1, i+1, timeSince(start, (e *n_iters +i+1) / (n_iters*epoch)),\n",
    "                                             (i+1), (e *n_iters +i+1) / (n_iters*epoch) * 100, print_loss_avg)\n",
    "                print(txt)\n",
    "\n",
    "            if i+1 % plot_every == 0:\n",
    "                plot_loss_avg = plot_loss_total / plot_every\n",
    "                plot_losses.append(plot_loss_avg)\n",
    "                plot_loss_total = 0\n"
   ]
  },
  {
   "cell_type": "code",
   "execution_count": null,
   "metadata": {
    "scrolled": true
   },
   "outputs": [
    {
     "name": "stdout",
     "output_type": "stream",
     "text": [
      "CTC_Model(\n",
      "  (encoder): Encoder(\n",
      "    (rnn): LSTM(240, 256, batch_first=True, bidirectional=True)\n",
      "  )\n",
      "  (ctc_loss): CTCLoss()\n",
      ")\n",
      "Epoch 1 | Iter 200 | 0m 23s (- 1123m 14s) (200 0%) 202.0096\n",
      "Epoch 1 | Iter 400 | 0m 43s (- 1049m 37s) (400 0%) 171.0560\n"
     ]
    }
   ],
   "source": [
    "input_size = 240\n",
    "\n",
    "hidden_size = 256\n",
    "vocab_size = len(char_list)\n",
    "embedding_dim = 512\n",
    "sos_id = 0\n",
    "eos_id = 1\n",
    "learning_rate = 1e-3\n",
    "momentum = 0\n",
    "l2 = 1e-5\n",
    "\n",
    "IGNORE_ID=-1\n",
    "\n",
    "\n",
    "model = CTC_Model(input_size, hidden_size)\n",
    "print(model)\n",
    "model.cuda()\n",
    "\n",
    "optimizier = torch.optim.Adam(model.parameters(),\n",
    "                                     lr=learning_rate,\n",
    "#                                      momentum=momentum,\n",
    "                                     weight_decay=l2)\n",
    "trainIters(model, 20,optimizier, print_every=200)"
   ]
  },
  {
   "cell_type": "code",
   "execution_count": null,
   "metadata": {},
   "outputs": [],
   "source": []
  },
  {
   "cell_type": "code",
   "execution_count": 31,
   "metadata": {},
   "outputs": [],
   "source": [
    "in_channels=16\n",
    "out_channels=33\n",
    "kernel_size=(3, 5)\n",
    "stride=(2, 1)\n",
    "padding=(1, 2)\n",
    "\n",
    "m = nn.Conv2d(in_channels, out_channels, kernel_size, stride, padding)"
   ]
  },
  {
   "cell_type": "code",
   "execution_count": 32,
   "metadata": {},
   "outputs": [],
   "source": [
    "input = torch.randn(20, 16, 50, 100)"
   ]
  },
  {
   "cell_type": "code",
   "execution_count": 33,
   "metadata": {},
   "outputs": [
    {
     "data": {
      "text/plain": [
       "torch.Size([20, 33, 25, 100])"
      ]
     },
     "execution_count": 33,
     "metadata": {},
     "output_type": "execute_result"
    }
   ],
   "source": [
    "m(input).shape"
   ]
  },
  {
   "cell_type": "code",
   "execution_count": null,
   "metadata": {},
   "outputs": [],
   "source": []
  },
  {
   "cell_type": "code",
   "execution_count": 16,
   "metadata": {},
   "outputs": [],
   "source": [
    "T = 50\n",
    "C = 20\n",
    "N = 16\n",
    "S = 30\n",
    "\n",
    "# target_lengths = torch.randint(low=1, high=T, size=(N,), dtype=torch.long)\n",
    "target = torch.randint(low=1, high=C, size=(N, S), dtype=torch.long)"
   ]
  },
  {
   "cell_type": "code",
   "execution_count": null,
   "metadata": {},
   "outputs": [],
   "source": []
  },
  {
   "cell_type": "code",
   "execution_count": null,
   "metadata": {},
   "outputs": [],
   "source": []
  },
  {
   "cell_type": "code",
   "execution_count": null,
   "metadata": {},
   "outputs": [],
   "source": []
  },
  {
   "cell_type": "code",
   "execution_count": 10,
   "metadata": {},
   "outputs": [
    {
     "data": {
      "text/plain": [
       "tensor([33, 11, 26,  5, 46, 18, 27, 38,  2, 15, 13, 43, 14, 33,  4,  5])"
      ]
     },
     "execution_count": 10,
     "metadata": {},
     "output_type": "execute_result"
    }
   ],
   "source": [
    "target_lengths"
   ]
  },
  {
   "cell_type": "code",
   "execution_count": 18,
   "metadata": {},
   "outputs": [
    {
     "data": {
      "text/plain": [
       "torch.Size([16, 30])"
      ]
     },
     "execution_count": 18,
     "metadata": {},
     "output_type": "execute_result"
    }
   ],
   "source": [
    "target.shape"
   ]
  },
  {
   "cell_type": "code",
   "execution_count": 19,
   "metadata": {},
   "outputs": [
    {
     "name": "stdout",
     "output_type": "stream",
     "text": [
      "torch.Size([16, 1930, 240])\n",
      "torch.Size([32, 1615, 240])\n",
      "torch.Size([32, 1450, 240])\n",
      "torch.Size([32, 1335, 240])\n",
      "torch.Size([32, 1277, 240])\n",
      "torch.Size([32, 1245, 240])\n",
      "torch.Size([32, 1219, 240])\n",
      "torch.Size([16, 1196, 240])\n",
      "torch.Size([32, 1185, 240])\n",
      "torch.Size([32, 1169, 240])\n",
      "torch.Size([32, 1156, 240])\n",
      "torch.Size([32, 1144, 240])\n",
      "torch.Size([32, 1131, 240])\n",
      "torch.Size([16, 1118, 240])\n",
      "torch.Size([32, 1114, 240])\n",
      "torch.Size([32, 1106, 240])\n",
      "torch.Size([32, 1099, 240])\n",
      "torch.Size([32, 1092, 240])\n",
      "torch.Size([32, 1084, 240])\n",
      "torch.Size([32, 1079, 240])\n",
      "torch.Size([32, 1073, 240])\n",
      "torch.Size([32, 1068, 240])\n",
      "torch.Size([32, 1061, 240])\n",
      "torch.Size([32, 1057, 240])\n",
      "torch.Size([32, 1051, 240])\n",
      "torch.Size([32, 1047, 240])\n",
      "torch.Size([32, 1041, 240])\n",
      "torch.Size([32, 1037, 240])\n",
      "torch.Size([32, 1033, 240])\n",
      "torch.Size([32, 1028, 240])\n",
      "torch.Size([32, 1023, 240])\n",
      "torch.Size([32, 1019, 240])\n",
      "torch.Size([32, 1014, 240])\n",
      "torch.Size([32, 1012, 240])\n",
      "torch.Size([32, 1009, 240])\n",
      "torch.Size([32, 1007, 240])\n"
     ]
    },
    {
     "ename": "KeyboardInterrupt",
     "evalue": "",
     "output_type": "error",
     "traceback": [
      "\u001b[0;31m---------------------------------------------------------------------------\u001b[0m",
      "\u001b[0;31mKeyboardInterrupt\u001b[0m                         Traceback (most recent call last)",
      "\u001b[0;32m<ipython-input-19-5099114ef87e>\u001b[0m in \u001b[0;36m<module>\u001b[0;34m\u001b[0m\n\u001b[0;32m----> 1\u001b[0;31m \u001b[0;32mfor\u001b[0m \u001b[0mi\u001b[0m\u001b[0;34m,\u001b[0m \u001b[0;34m(\u001b[0m\u001b[0mdata\u001b[0m\u001b[0;34m)\u001b[0m \u001b[0;32min\u001b[0m \u001b[0menumerate\u001b[0m\u001b[0;34m(\u001b[0m\u001b[0mtr_loader\u001b[0m\u001b[0;34m)\u001b[0m\u001b[0;34m:\u001b[0m\u001b[0;34m\u001b[0m\u001b[0;34m\u001b[0m\u001b[0m\n\u001b[0m\u001b[1;32m      2\u001b[0m     \u001b[0mprint\u001b[0m\u001b[0;34m(\u001b[0m\u001b[0mdata\u001b[0m\u001b[0;34m[\u001b[0m\u001b[0;36m0\u001b[0m\u001b[0;34m]\u001b[0m\u001b[0;34m.\u001b[0m\u001b[0mshape\u001b[0m\u001b[0;34m)\u001b[0m\u001b[0;34m\u001b[0m\u001b[0;34m\u001b[0m\u001b[0m\n",
      "\u001b[0;32m~/anaconda3/lib/python3.8/site-packages/torch/utils/data/dataloader.py\u001b[0m in \u001b[0;36m__next__\u001b[0;34m(self)\u001b[0m\n\u001b[1;32m    361\u001b[0m \u001b[0;34m\u001b[0m\u001b[0m\n\u001b[1;32m    362\u001b[0m     \u001b[0;32mdef\u001b[0m \u001b[0m__next__\u001b[0m\u001b[0;34m(\u001b[0m\u001b[0mself\u001b[0m\u001b[0;34m)\u001b[0m\u001b[0;34m:\u001b[0m\u001b[0;34m\u001b[0m\u001b[0;34m\u001b[0m\u001b[0m\n\u001b[0;32m--> 363\u001b[0;31m         \u001b[0mdata\u001b[0m \u001b[0;34m=\u001b[0m \u001b[0mself\u001b[0m\u001b[0;34m.\u001b[0m\u001b[0m_next_data\u001b[0m\u001b[0;34m(\u001b[0m\u001b[0;34m)\u001b[0m\u001b[0;34m\u001b[0m\u001b[0;34m\u001b[0m\u001b[0m\n\u001b[0m\u001b[1;32m    364\u001b[0m         \u001b[0mself\u001b[0m\u001b[0;34m.\u001b[0m\u001b[0m_num_yielded\u001b[0m \u001b[0;34m+=\u001b[0m \u001b[0;36m1\u001b[0m\u001b[0;34m\u001b[0m\u001b[0;34m\u001b[0m\u001b[0m\n\u001b[1;32m    365\u001b[0m         \u001b[0;32mif\u001b[0m \u001b[0mself\u001b[0m\u001b[0;34m.\u001b[0m\u001b[0m_dataset_kind\u001b[0m \u001b[0;34m==\u001b[0m \u001b[0m_DatasetKind\u001b[0m\u001b[0;34m.\u001b[0m\u001b[0mIterable\u001b[0m \u001b[0;32mand\u001b[0m\u001b[0;31m \u001b[0m\u001b[0;31m\\\u001b[0m\u001b[0;34m\u001b[0m\u001b[0;34m\u001b[0m\u001b[0m\n",
      "\u001b[0;32m~/anaconda3/lib/python3.8/site-packages/torch/utils/data/dataloader.py\u001b[0m in \u001b[0;36m_next_data\u001b[0;34m(self)\u001b[0m\n\u001b[1;32m    972\u001b[0m \u001b[0;34m\u001b[0m\u001b[0m\n\u001b[1;32m    973\u001b[0m             \u001b[0;32massert\u001b[0m \u001b[0;32mnot\u001b[0m \u001b[0mself\u001b[0m\u001b[0;34m.\u001b[0m\u001b[0m_shutdown\u001b[0m \u001b[0;32mand\u001b[0m \u001b[0mself\u001b[0m\u001b[0;34m.\u001b[0m\u001b[0m_tasks_outstanding\u001b[0m \u001b[0;34m>\u001b[0m \u001b[0;36m0\u001b[0m\u001b[0;34m\u001b[0m\u001b[0;34m\u001b[0m\u001b[0m\n\u001b[0;32m--> 974\u001b[0;31m             \u001b[0midx\u001b[0m\u001b[0;34m,\u001b[0m \u001b[0mdata\u001b[0m \u001b[0;34m=\u001b[0m \u001b[0mself\u001b[0m\u001b[0;34m.\u001b[0m\u001b[0m_get_data\u001b[0m\u001b[0;34m(\u001b[0m\u001b[0;34m)\u001b[0m\u001b[0;34m\u001b[0m\u001b[0;34m\u001b[0m\u001b[0m\n\u001b[0m\u001b[1;32m    975\u001b[0m             \u001b[0mself\u001b[0m\u001b[0;34m.\u001b[0m\u001b[0m_tasks_outstanding\u001b[0m \u001b[0;34m-=\u001b[0m \u001b[0;36m1\u001b[0m\u001b[0;34m\u001b[0m\u001b[0;34m\u001b[0m\u001b[0m\n\u001b[1;32m    976\u001b[0m \u001b[0;34m\u001b[0m\u001b[0m\n",
      "\u001b[0;32m~/anaconda3/lib/python3.8/site-packages/torch/utils/data/dataloader.py\u001b[0m in \u001b[0;36m_get_data\u001b[0;34m(self)\u001b[0m\n\u001b[1;32m    939\u001b[0m         \u001b[0;32melse\u001b[0m\u001b[0;34m:\u001b[0m\u001b[0;34m\u001b[0m\u001b[0;34m\u001b[0m\u001b[0m\n\u001b[1;32m    940\u001b[0m             \u001b[0;32mwhile\u001b[0m \u001b[0;32mTrue\u001b[0m\u001b[0;34m:\u001b[0m\u001b[0;34m\u001b[0m\u001b[0;34m\u001b[0m\u001b[0m\n\u001b[0;32m--> 941\u001b[0;31m                 \u001b[0msuccess\u001b[0m\u001b[0;34m,\u001b[0m \u001b[0mdata\u001b[0m \u001b[0;34m=\u001b[0m \u001b[0mself\u001b[0m\u001b[0;34m.\u001b[0m\u001b[0m_try_get_data\u001b[0m\u001b[0;34m(\u001b[0m\u001b[0;34m)\u001b[0m\u001b[0;34m\u001b[0m\u001b[0;34m\u001b[0m\u001b[0m\n\u001b[0m\u001b[1;32m    942\u001b[0m                 \u001b[0;32mif\u001b[0m \u001b[0msuccess\u001b[0m\u001b[0;34m:\u001b[0m\u001b[0;34m\u001b[0m\u001b[0;34m\u001b[0m\u001b[0m\n\u001b[1;32m    943\u001b[0m                     \u001b[0;32mreturn\u001b[0m \u001b[0mdata\u001b[0m\u001b[0;34m\u001b[0m\u001b[0;34m\u001b[0m\u001b[0m\n",
      "\u001b[0;32m~/anaconda3/lib/python3.8/site-packages/torch/utils/data/dataloader.py\u001b[0m in \u001b[0;36m_try_get_data\u001b[0;34m(self, timeout)\u001b[0m\n\u001b[1;32m    777\u001b[0m         \u001b[0;31m#   (bool: whether successfully get data, any: data if successful else None)\u001b[0m\u001b[0;34m\u001b[0m\u001b[0;34m\u001b[0m\u001b[0;34m\u001b[0m\u001b[0m\n\u001b[1;32m    778\u001b[0m         \u001b[0;32mtry\u001b[0m\u001b[0;34m:\u001b[0m\u001b[0;34m\u001b[0m\u001b[0;34m\u001b[0m\u001b[0m\n\u001b[0;32m--> 779\u001b[0;31m             \u001b[0mdata\u001b[0m \u001b[0;34m=\u001b[0m \u001b[0mself\u001b[0m\u001b[0;34m.\u001b[0m\u001b[0m_data_queue\u001b[0m\u001b[0;34m.\u001b[0m\u001b[0mget\u001b[0m\u001b[0;34m(\u001b[0m\u001b[0mtimeout\u001b[0m\u001b[0;34m=\u001b[0m\u001b[0mtimeout\u001b[0m\u001b[0;34m)\u001b[0m\u001b[0;34m\u001b[0m\u001b[0;34m\u001b[0m\u001b[0m\n\u001b[0m\u001b[1;32m    780\u001b[0m             \u001b[0;32mreturn\u001b[0m \u001b[0;34m(\u001b[0m\u001b[0;32mTrue\u001b[0m\u001b[0;34m,\u001b[0m \u001b[0mdata\u001b[0m\u001b[0;34m)\u001b[0m\u001b[0;34m\u001b[0m\u001b[0;34m\u001b[0m\u001b[0m\n\u001b[1;32m    781\u001b[0m         \u001b[0;32mexcept\u001b[0m \u001b[0mException\u001b[0m \u001b[0;32mas\u001b[0m \u001b[0me\u001b[0m\u001b[0;34m:\u001b[0m\u001b[0;34m\u001b[0m\u001b[0;34m\u001b[0m\u001b[0m\n",
      "\u001b[0;32m~/anaconda3/lib/python3.8/multiprocessing/queues.py\u001b[0m in \u001b[0;36mget\u001b[0;34m(self, block, timeout)\u001b[0m\n\u001b[1;32m    114\u001b[0m                 \u001b[0mself\u001b[0m\u001b[0;34m.\u001b[0m\u001b[0m_rlock\u001b[0m\u001b[0;34m.\u001b[0m\u001b[0mrelease\u001b[0m\u001b[0;34m(\u001b[0m\u001b[0;34m)\u001b[0m\u001b[0;34m\u001b[0m\u001b[0;34m\u001b[0m\u001b[0m\n\u001b[1;32m    115\u001b[0m         \u001b[0;31m# unserialize the data after having released the lock\u001b[0m\u001b[0;34m\u001b[0m\u001b[0;34m\u001b[0m\u001b[0;34m\u001b[0m\u001b[0m\n\u001b[0;32m--> 116\u001b[0;31m         \u001b[0;32mreturn\u001b[0m \u001b[0m_ForkingPickler\u001b[0m\u001b[0;34m.\u001b[0m\u001b[0mloads\u001b[0m\u001b[0;34m(\u001b[0m\u001b[0mres\u001b[0m\u001b[0;34m)\u001b[0m\u001b[0;34m\u001b[0m\u001b[0;34m\u001b[0m\u001b[0m\n\u001b[0m\u001b[1;32m    117\u001b[0m \u001b[0;34m\u001b[0m\u001b[0m\n\u001b[1;32m    118\u001b[0m     \u001b[0;32mdef\u001b[0m \u001b[0mqsize\u001b[0m\u001b[0;34m(\u001b[0m\u001b[0mself\u001b[0m\u001b[0;34m)\u001b[0m\u001b[0;34m:\u001b[0m\u001b[0;34m\u001b[0m\u001b[0;34m\u001b[0m\u001b[0m\n",
      "\u001b[0;32m~/anaconda3/lib/python3.8/site-packages/torch/multiprocessing/reductions.py\u001b[0m in \u001b[0;36mrebuild_storage_fd\u001b[0;34m(cls, df, size)\u001b[0m\n\u001b[1;32m    280\u001b[0m \u001b[0;34m\u001b[0m\u001b[0m\n\u001b[1;32m    281\u001b[0m \u001b[0;32mdef\u001b[0m \u001b[0mrebuild_storage_fd\u001b[0m\u001b[0;34m(\u001b[0m\u001b[0mcls\u001b[0m\u001b[0;34m,\u001b[0m \u001b[0mdf\u001b[0m\u001b[0;34m,\u001b[0m \u001b[0msize\u001b[0m\u001b[0;34m)\u001b[0m\u001b[0;34m:\u001b[0m\u001b[0;34m\u001b[0m\u001b[0;34m\u001b[0m\u001b[0m\n\u001b[0;32m--> 282\u001b[0;31m     \u001b[0mfd\u001b[0m \u001b[0;34m=\u001b[0m \u001b[0mdf\u001b[0m\u001b[0;34m.\u001b[0m\u001b[0mdetach\u001b[0m\u001b[0;34m(\u001b[0m\u001b[0;34m)\u001b[0m\u001b[0;34m\u001b[0m\u001b[0;34m\u001b[0m\u001b[0m\n\u001b[0m\u001b[1;32m    283\u001b[0m     \u001b[0;32mtry\u001b[0m\u001b[0;34m:\u001b[0m\u001b[0;34m\u001b[0m\u001b[0;34m\u001b[0m\u001b[0m\n\u001b[1;32m    284\u001b[0m         \u001b[0mstorage\u001b[0m \u001b[0;34m=\u001b[0m \u001b[0mstorage_from_cache\u001b[0m\u001b[0;34m(\u001b[0m\u001b[0mcls\u001b[0m\u001b[0;34m,\u001b[0m \u001b[0mfd_id\u001b[0m\u001b[0;34m(\u001b[0m\u001b[0mfd\u001b[0m\u001b[0;34m)\u001b[0m\u001b[0;34m)\u001b[0m\u001b[0;34m\u001b[0m\u001b[0;34m\u001b[0m\u001b[0m\n",
      "\u001b[0;32m~/anaconda3/lib/python3.8/multiprocessing/resource_sharer.py\u001b[0m in \u001b[0;36mdetach\u001b[0;34m(self)\u001b[0m\n\u001b[1;32m     55\u001b[0m         \u001b[0;32mdef\u001b[0m \u001b[0mdetach\u001b[0m\u001b[0;34m(\u001b[0m\u001b[0mself\u001b[0m\u001b[0;34m)\u001b[0m\u001b[0;34m:\u001b[0m\u001b[0;34m\u001b[0m\u001b[0;34m\u001b[0m\u001b[0m\n\u001b[1;32m     56\u001b[0m             \u001b[0;34m'''Get the fd.  This should only be called once.'''\u001b[0m\u001b[0;34m\u001b[0m\u001b[0;34m\u001b[0m\u001b[0m\n\u001b[0;32m---> 57\u001b[0;31m             \u001b[0;32mwith\u001b[0m \u001b[0m_resource_sharer\u001b[0m\u001b[0;34m.\u001b[0m\u001b[0mget_connection\u001b[0m\u001b[0;34m(\u001b[0m\u001b[0mself\u001b[0m\u001b[0;34m.\u001b[0m\u001b[0m_id\u001b[0m\u001b[0;34m)\u001b[0m \u001b[0;32mas\u001b[0m \u001b[0mconn\u001b[0m\u001b[0;34m:\u001b[0m\u001b[0;34m\u001b[0m\u001b[0;34m\u001b[0m\u001b[0m\n\u001b[0m\u001b[1;32m     58\u001b[0m                 \u001b[0;32mreturn\u001b[0m \u001b[0mreduction\u001b[0m\u001b[0;34m.\u001b[0m\u001b[0mrecv_handle\u001b[0m\u001b[0;34m(\u001b[0m\u001b[0mconn\u001b[0m\u001b[0;34m)\u001b[0m\u001b[0;34m\u001b[0m\u001b[0;34m\u001b[0m\u001b[0m\n\u001b[1;32m     59\u001b[0m \u001b[0;34m\u001b[0m\u001b[0m\n",
      "\u001b[0;32m~/anaconda3/lib/python3.8/multiprocessing/resource_sharer.py\u001b[0m in \u001b[0;36mget_connection\u001b[0;34m(ident)\u001b[0m\n\u001b[1;32m     85\u001b[0m         \u001b[0;32mfrom\u001b[0m \u001b[0;34m.\u001b[0m\u001b[0mconnection\u001b[0m \u001b[0;32mimport\u001b[0m \u001b[0mClient\u001b[0m\u001b[0;34m\u001b[0m\u001b[0;34m\u001b[0m\u001b[0m\n\u001b[1;32m     86\u001b[0m         \u001b[0maddress\u001b[0m\u001b[0;34m,\u001b[0m \u001b[0mkey\u001b[0m \u001b[0;34m=\u001b[0m \u001b[0mident\u001b[0m\u001b[0;34m\u001b[0m\u001b[0;34m\u001b[0m\u001b[0m\n\u001b[0;32m---> 87\u001b[0;31m         \u001b[0mc\u001b[0m \u001b[0;34m=\u001b[0m \u001b[0mClient\u001b[0m\u001b[0;34m(\u001b[0m\u001b[0maddress\u001b[0m\u001b[0;34m,\u001b[0m \u001b[0mauthkey\u001b[0m\u001b[0;34m=\u001b[0m\u001b[0mprocess\u001b[0m\u001b[0;34m.\u001b[0m\u001b[0mcurrent_process\u001b[0m\u001b[0;34m(\u001b[0m\u001b[0;34m)\u001b[0m\u001b[0;34m.\u001b[0m\u001b[0mauthkey\u001b[0m\u001b[0;34m)\u001b[0m\u001b[0;34m\u001b[0m\u001b[0;34m\u001b[0m\u001b[0m\n\u001b[0m\u001b[1;32m     88\u001b[0m         \u001b[0mc\u001b[0m\u001b[0;34m.\u001b[0m\u001b[0msend\u001b[0m\u001b[0;34m(\u001b[0m\u001b[0;34m(\u001b[0m\u001b[0mkey\u001b[0m\u001b[0;34m,\u001b[0m \u001b[0mos\u001b[0m\u001b[0;34m.\u001b[0m\u001b[0mgetpid\u001b[0m\u001b[0;34m(\u001b[0m\u001b[0;34m)\u001b[0m\u001b[0;34m)\u001b[0m\u001b[0;34m)\u001b[0m\u001b[0;34m\u001b[0m\u001b[0;34m\u001b[0m\u001b[0m\n\u001b[1;32m     89\u001b[0m         \u001b[0;32mreturn\u001b[0m \u001b[0mc\u001b[0m\u001b[0;34m\u001b[0m\u001b[0;34m\u001b[0m\u001b[0m\n",
      "\u001b[0;32m~/anaconda3/lib/python3.8/multiprocessing/connection.py\u001b[0m in \u001b[0;36mClient\u001b[0;34m(address, family, authkey)\u001b[0m\n\u001b[1;32m    506\u001b[0m \u001b[0;34m\u001b[0m\u001b[0m\n\u001b[1;32m    507\u001b[0m     \u001b[0;32mif\u001b[0m \u001b[0mauthkey\u001b[0m \u001b[0;32mis\u001b[0m \u001b[0;32mnot\u001b[0m \u001b[0;32mNone\u001b[0m\u001b[0;34m:\u001b[0m\u001b[0;34m\u001b[0m\u001b[0;34m\u001b[0m\u001b[0m\n\u001b[0;32m--> 508\u001b[0;31m         \u001b[0manswer_challenge\u001b[0m\u001b[0;34m(\u001b[0m\u001b[0mc\u001b[0m\u001b[0;34m,\u001b[0m \u001b[0mauthkey\u001b[0m\u001b[0;34m)\u001b[0m\u001b[0;34m\u001b[0m\u001b[0;34m\u001b[0m\u001b[0m\n\u001b[0m\u001b[1;32m    509\u001b[0m         \u001b[0mdeliver_challenge\u001b[0m\u001b[0;34m(\u001b[0m\u001b[0mc\u001b[0m\u001b[0;34m,\u001b[0m \u001b[0mauthkey\u001b[0m\u001b[0;34m)\u001b[0m\u001b[0;34m\u001b[0m\u001b[0;34m\u001b[0m\u001b[0m\n\u001b[1;32m    510\u001b[0m \u001b[0;34m\u001b[0m\u001b[0m\n",
      "\u001b[0;32m~/anaconda3/lib/python3.8/multiprocessing/connection.py\u001b[0m in \u001b[0;36manswer_challenge\u001b[0;34m(connection, authkey)\u001b[0m\n\u001b[1;32m    750\u001b[0m         raise ValueError(\n\u001b[1;32m    751\u001b[0m             \"Authkey must be bytes, not {0!s}\".format(type(authkey)))\n\u001b[0;32m--> 752\u001b[0;31m     \u001b[0mmessage\u001b[0m \u001b[0;34m=\u001b[0m \u001b[0mconnection\u001b[0m\u001b[0;34m.\u001b[0m\u001b[0mrecv_bytes\u001b[0m\u001b[0;34m(\u001b[0m\u001b[0;36m256\u001b[0m\u001b[0;34m)\u001b[0m         \u001b[0;31m# reject large message\u001b[0m\u001b[0;34m\u001b[0m\u001b[0;34m\u001b[0m\u001b[0m\n\u001b[0m\u001b[1;32m    753\u001b[0m     \u001b[0;32massert\u001b[0m \u001b[0mmessage\u001b[0m\u001b[0;34m[\u001b[0m\u001b[0;34m:\u001b[0m\u001b[0mlen\u001b[0m\u001b[0;34m(\u001b[0m\u001b[0mCHALLENGE\u001b[0m\u001b[0;34m)\u001b[0m\u001b[0;34m]\u001b[0m \u001b[0;34m==\u001b[0m \u001b[0mCHALLENGE\u001b[0m\u001b[0;34m,\u001b[0m \u001b[0;34m'message = %r'\u001b[0m \u001b[0;34m%\u001b[0m \u001b[0mmessage\u001b[0m\u001b[0;34m\u001b[0m\u001b[0;34m\u001b[0m\u001b[0m\n\u001b[1;32m    754\u001b[0m     \u001b[0mmessage\u001b[0m \u001b[0;34m=\u001b[0m \u001b[0mmessage\u001b[0m\u001b[0;34m[\u001b[0m\u001b[0mlen\u001b[0m\u001b[0;34m(\u001b[0m\u001b[0mCHALLENGE\u001b[0m\u001b[0;34m)\u001b[0m\u001b[0;34m:\u001b[0m\u001b[0;34m]\u001b[0m\u001b[0;34m\u001b[0m\u001b[0;34m\u001b[0m\u001b[0m\n",
      "\u001b[0;32m~/anaconda3/lib/python3.8/multiprocessing/connection.py\u001b[0m in \u001b[0;36mrecv_bytes\u001b[0;34m(self, maxlength)\u001b[0m\n\u001b[1;32m    214\u001b[0m         \u001b[0;32mif\u001b[0m \u001b[0mmaxlength\u001b[0m \u001b[0;32mis\u001b[0m \u001b[0;32mnot\u001b[0m \u001b[0;32mNone\u001b[0m \u001b[0;32mand\u001b[0m \u001b[0mmaxlength\u001b[0m \u001b[0;34m<\u001b[0m \u001b[0;36m0\u001b[0m\u001b[0;34m:\u001b[0m\u001b[0;34m\u001b[0m\u001b[0;34m\u001b[0m\u001b[0m\n\u001b[1;32m    215\u001b[0m             \u001b[0;32mraise\u001b[0m \u001b[0mValueError\u001b[0m\u001b[0;34m(\u001b[0m\u001b[0;34m\"negative maxlength\"\u001b[0m\u001b[0;34m)\u001b[0m\u001b[0;34m\u001b[0m\u001b[0;34m\u001b[0m\u001b[0m\n\u001b[0;32m--> 216\u001b[0;31m         \u001b[0mbuf\u001b[0m \u001b[0;34m=\u001b[0m \u001b[0mself\u001b[0m\u001b[0;34m.\u001b[0m\u001b[0m_recv_bytes\u001b[0m\u001b[0;34m(\u001b[0m\u001b[0mmaxlength\u001b[0m\u001b[0;34m)\u001b[0m\u001b[0;34m\u001b[0m\u001b[0;34m\u001b[0m\u001b[0m\n\u001b[0m\u001b[1;32m    217\u001b[0m         \u001b[0;32mif\u001b[0m \u001b[0mbuf\u001b[0m \u001b[0;32mis\u001b[0m \u001b[0;32mNone\u001b[0m\u001b[0;34m:\u001b[0m\u001b[0;34m\u001b[0m\u001b[0;34m\u001b[0m\u001b[0m\n\u001b[1;32m    218\u001b[0m             \u001b[0mself\u001b[0m\u001b[0;34m.\u001b[0m\u001b[0m_bad_message_length\u001b[0m\u001b[0;34m(\u001b[0m\u001b[0;34m)\u001b[0m\u001b[0;34m\u001b[0m\u001b[0;34m\u001b[0m\u001b[0m\n",
      "\u001b[0;32m~/anaconda3/lib/python3.8/multiprocessing/connection.py\u001b[0m in \u001b[0;36m_recv_bytes\u001b[0;34m(self, maxsize)\u001b[0m\n\u001b[1;32m    413\u001b[0m     \u001b[0;32mdef\u001b[0m \u001b[0m_recv_bytes\u001b[0m\u001b[0;34m(\u001b[0m\u001b[0mself\u001b[0m\u001b[0;34m,\u001b[0m \u001b[0mmaxsize\u001b[0m\u001b[0;34m=\u001b[0m\u001b[0;32mNone\u001b[0m\u001b[0;34m)\u001b[0m\u001b[0;34m:\u001b[0m\u001b[0;34m\u001b[0m\u001b[0;34m\u001b[0m\u001b[0m\n\u001b[1;32m    414\u001b[0m         \u001b[0mbuf\u001b[0m \u001b[0;34m=\u001b[0m \u001b[0mself\u001b[0m\u001b[0;34m.\u001b[0m\u001b[0m_recv\u001b[0m\u001b[0;34m(\u001b[0m\u001b[0;36m4\u001b[0m\u001b[0;34m)\u001b[0m\u001b[0;34m\u001b[0m\u001b[0;34m\u001b[0m\u001b[0m\n\u001b[0;32m--> 415\u001b[0;31m         \u001b[0msize\u001b[0m\u001b[0;34m,\u001b[0m \u001b[0;34m=\u001b[0m \u001b[0mstruct\u001b[0m\u001b[0;34m.\u001b[0m\u001b[0munpack\u001b[0m\u001b[0;34m(\u001b[0m\u001b[0;34m\"!i\"\u001b[0m\u001b[0;34m,\u001b[0m \u001b[0mbuf\u001b[0m\u001b[0;34m.\u001b[0m\u001b[0mgetvalue\u001b[0m\u001b[0;34m(\u001b[0m\u001b[0;34m)\u001b[0m\u001b[0;34m)\u001b[0m\u001b[0;34m\u001b[0m\u001b[0;34m\u001b[0m\u001b[0m\n\u001b[0m\u001b[1;32m    416\u001b[0m         \u001b[0;32mif\u001b[0m \u001b[0msize\u001b[0m \u001b[0;34m==\u001b[0m \u001b[0;34m-\u001b[0m\u001b[0;36m1\u001b[0m\u001b[0;34m:\u001b[0m\u001b[0;34m\u001b[0m\u001b[0;34m\u001b[0m\u001b[0m\n\u001b[1;32m    417\u001b[0m             \u001b[0mbuf\u001b[0m \u001b[0;34m=\u001b[0m \u001b[0mself\u001b[0m\u001b[0;34m.\u001b[0m\u001b[0m_recv\u001b[0m\u001b[0;34m(\u001b[0m\u001b[0;36m8\u001b[0m\u001b[0;34m)\u001b[0m\u001b[0;34m\u001b[0m\u001b[0;34m\u001b[0m\u001b[0m\n",
      "\u001b[0;31mKeyboardInterrupt\u001b[0m: "
     ]
    }
   ],
   "source": [
    "for i, (data) in enumerate(tr_loader):\n",
    "    print(data[0].shape)"
   ]
  },
  {
   "cell_type": "code",
   "execution_count": 24,
   "metadata": {},
   "outputs": [
    {
     "name": "stdout",
     "output_type": "stream",
     "text": [
      "tensor([[  64, 3872, 4896,  874, 1727, 2970, 3445,  126,   76, 4620, 1549, 4129,\n",
      "            0,    0,    0,    0,    0,    0,    0,    0],\n",
      "        [4198, 3607, 2192, 1826, 3891, 1493, 3071,   87, 4695, 3561,  887, 2807,\n",
      "         4348, 1967, 4186, 3385,    0,    0,    0,    0],\n",
      "        [ 963, 2095, 2022,  577, 1398, 2982,  874, 1029,  385, 3071,  356, 2908,\n",
      "          153, 5042,    0,    0,    0,    0,    0,    0],\n",
      "        [  87,  886, 1788, 1802, 2989,   58,  176, 1195, 1370, 5186, 2034,  626,\n",
      "          577,   73,    0,    0,    0,    0,    0,    0],\n",
      "        [ 525, 2080,   63,  525,   58, 1990, 3746,  525,   58, 2080,   58, 1990,\n",
      "         4516, 4099,  536, 4964,  393, 4363,    0,    0],\n",
      "        [1670,  886, 2360,  121,  785,  370, 2877,  525,  359, 1398, 4815,   65,\n",
      "         4862,  123, 4512, 3069,  428,  101,  871,  525],\n",
      "        [  64, 2526, 1366, 2404, 2211, 1714,  587, 1366,  901,   58,  613, 4805,\n",
      "            0,    0,    0,    0,    0,    0,    0,    0],\n",
      "        [ 218, 5093,  128, 3361,   58, 1172, 1422,  687, 3361,  127, 1172, 1422,\n",
      "          366,  169, 2080,  187,    0,    0,    0,    0],\n",
      "        [  87,  886, 4539, 1691, 2879,  828, 2982,  494, 1029, 4729, 2809,    0,\n",
      "            0,    0,    0,    0,    0,    0,    0,    0],\n",
      "        [2192, 1826,  366,  143,  716,  687,   76,  480,  428,  445, 1834,  124,\n",
      "           66,  626, 3071, 1205, 1683,  613,    0,    0],\n",
      "        [ 161,  628, 1248,  178, 4954,  886,  886,  374,   93,   87, 1503, 4516,\n",
      "         4099, 4348, 2619, 1958,  622,    0,    0,    0],\n",
      "        [1669,  140, 4940, 3288,  357,  525,  127, 2728,  127,  132,   61, 1397,\n",
      "         1979, 3413,    0,    0,    0,    0,    0,    0],\n",
      "        [4268, 5213, 3071, 3504, 1240, 1202,  475, 1360, 3493, 4937, 2198, 2977,\n",
      "         4320, 1966,  606, 2364,    0,    0,    0,    0],\n",
      "        [ 512,  147, 2269, 1366, 3071, 4108, 2889,  378, 1422, 1435, 3514,  123,\n",
      "          101,  460, 3071, 2699, 2748,    0,    0,    0],\n",
      "        [ 125,  589, 4549, 4508, 1240, 4231,  687,  532,  765,  890, 2638, 4176,\n",
      "          393, 4810, 4986,    0,    0,    0,    0,    0],\n",
      "        [ 585, 3479,  231, 1674, 3071, 4376, 3803, 3974,  626, 2000, 1202, 2889,\n",
      "          548,  380,    0,    0,    0,    0,    0,    0],\n",
      "        [1493,  447, 2530, 1568, 3071, 4376, 3803, 3974, 4891, 1848,  364, 1036,\n",
      "         1670,  101,  460,  115,   66, 3164, 4571,    0],\n",
      "        [1826,  202,   76, 1670, 2800, 1670, 1216, 1366,  901, 3182, 3312, 4867,\n",
      "         3071, 1956, 1826, 3506, 4186,    0,    0,    0],\n",
      "        [1055,  161, 4165, 1198,   66, 1493,  355, 1366, 1245, 4809, 4511,  231,\n",
      "            0,    0,    0,    0,    0,    0,    0,    0],\n",
      "        [  63, 2016, 1541, 4912,  894, 1978,  364, 1366,  901, 1438, 1081, 1367,\n",
      "         1271,    0,    0,    0,    0,    0,    0,    0],\n",
      "        [ 178,  359,  525,   63, 2728,   60, 4908,  428, 1839,  627, 3361,   63,\n",
      "            0,    0,    0,    0,    0,    0,    0,    0],\n",
      "        [  87, 1022, 2376, 4304,  607,  127,  525,   60,  613,   65,  528,  587,\n",
      "         1367, 5093, 2596, 5186, 3778, 4973, 4184,    0],\n",
      "        [2574,  899,  437,   58, 3103, 1709, 2651, 3124, 1685,  185, 4975, 1025,\n",
      "         3574, 3071, 4174, 3778,    0,    0,    0,    0],\n",
      "        [1685,  189,  448, 1198, 1252, 4671, 3534, 1847, 3071, 1847, 3096, 1941,\n",
      "         3372,    0,    0,    0,    0,    0,    0,    0],\n",
      "        [ 218,  115, 1717, 4189, 4515, 3278, 4463,  184, 1006,  128, 2702, 3778,\n",
      "          898, 1380,    0,    0,    0,    0,    0,    0],\n",
      "        [ 894, 1398, 4471,  522, 2970, 4840,  192,   87, 4108, 2889, 3317,  421,\n",
      "            0,    0,    0,    0,    0,    0,    0,    0],\n",
      "        [4514, 1935, 1786, 2889, 4672,  543,  894, 3479, 1935,  171, 3365, 1935,\n",
      "          171, 1691, 2353,    0,    0,    0,    0,    0],\n",
      "        [ 400,  511, 1982, 2601, 1366,  901,  163, 4912,  620, 1979, 1887, 1691,\n",
      "          362, 2445,    0,    0,    0,    0,    0,    0],\n",
      "        [1992,  200, 1502, 1845, 4519, 4126, 1788, 1719, 4127,  123, 1014,  219,\n",
      "         4209, 4186, 1370, 3071,  231,  716,    0,    0],\n",
      "        [2802, 2360,  200, 1618, 3500, 1669, 1398, 1159, 1049,  345,  119, 1685,\n",
      "         1159,    0,    0,    0,    0,    0,    0,    0],\n",
      "        [2889,  894, 3071, 1366,  901, 4514, 2022, 4160,  198,  345,  276, 4886,\n",
      "         5037, 1043, 1685,    0,    0,    0,    0,    0],\n",
      "        [ 218,  642, 4189,  200, 1502, 1719, 4127, 2364,  444, 2000, 4209, 4186,\n",
      "         1370,  570,  439,    0,    0,    0,    0,    0]])\n",
      "tensor([[  58,   63,   63,   58,  871,  871,  357,   58,  357,  127,   58,    0,\n",
      "            0,    0,    0,    0,    0,    0],\n",
      "        [  87,  570,  898,  143, 4896,  874, 1202, 4855, 1669,  140, 1956, 1826,\n",
      "         2028, 3237,    0,    0,    0,    0],\n",
      "        [  66,  158, 3474,   64,  200,  421, 2889, 1397, 2129, 2981, 3694, 3071,\n",
      "         2190, 1159,    0,    0,    0,    0],\n",
      "        [1385, 4373, 3071, 1251,  521, 4159, 4805,  115, 4126, 2819,   76, 3500,\n",
      "         1245,  221,  123,    0,    0,    0],\n",
      "        [  58,   63,  132,  359,  359,   60,   63, 4908,   60,   58,   60,    0,\n",
      "            0,    0,    0,    0,    0,    0],\n",
      "        [  58,   63,   58,   58,  132,  127,  113,  871, 4908,  127,  132,    0,\n",
      "            0,    0,    0,    0,    0,    0],\n",
      "        [  63, 2016,  894, 2051, 3686, 2981, 4167,   87, 4665, 2972,   23,   12,\n",
      "           29,    8,   17,    0,    0,    0],\n",
      "        [2679, 2603, 1978, 4821,  894, 3361,  127, 2316, 2059, 4210, 4262, 2167,\n",
      "         3071,  963, 3196,   64,    0,    0],\n",
      "        [ 886,  892, 4620,   66,  482,  143, 3067, 4198, 1271, 3104,  363, 4316,\n",
      "         4319,  153,  663, 4218, 4198, 3607],\n",
      "        [1248, 4209, 1007, 1725, 4348, 3470,  355,  991,  304, 3296, 1740, 1701,\n",
      "         3829,  882,    0,    0,    0,    0],\n",
      "        [1055, 1556, 5213, 3764, 3071, 1420, 2766, 1017, 2819, 4912, 4160, 4212,\n",
      "         2009,    0,    0,    0,    0,    0],\n",
      "        [ 894, 1990, 2095, 2079,  153, 2376, 3071, 3561, 3503, 3239,  521,  101,\n",
      "           58, 3071, 1847, 2822,   64,    0],\n",
      "        [ 358, 4406, 1240, 4940, 3317, 2766, 5001, 4508, 2120,   58,   85, 4744,\n",
      "         3068, 3778, 3071,  890, 3096,    0],\n",
      "        [  58,   63,   58,  359,  132,  871,   63,  127,  127,  113,  357,    0,\n",
      "            0,    0,    0,    0,    0,    0],\n",
      "        [ 479,   64,  356,  886, 1685,  898,  143, 1366,  901, 3071, 1397, 3302,\n",
      "          872, 2058,    0,    0,    0,    0],\n",
      "        [  63, 2016, 2981, 1159,  115, 2022, 4669, 4160, 2981, 1159, 4620,  184,\n",
      "         3071,  253, 1413,  765,    0,    0],\n",
      "        [3609, 3482, 1085,  200,   98,   98, 2093,  421, 2711, 1978,  200, 1502,\n",
      "         3071, 1483, 4539, 3484,  437,    0],\n",
      "        [2120, 3743, 1189, 1502, 3071, 2762,  345, 2970, 1785,  872,   81, 1024,\n",
      "         3071, 1946,  681, 4705,    0,    0],\n",
      "        [  64, 2526,   66, 1015,  953, 4549,  279,  143,  716,  140, 2011,   87,\n",
      "         1503,    0,    0,    0,    0,    0],\n",
      "        [  58,   63,  357,  359,  871,  359,   60,  127,  132,  357,  132,    0,\n",
      "            0,    0,    0,    0,    0,    0],\n",
      "        [3918, 1938,  991, 1413, 1465,  115, 1504, 4966,  211,  101,  178, 4862,\n",
      "         2877,    0,    0,    0,    0,    0],\n",
      "        [4674,  128, 4380, 1936, 1936,  355, 3071, 2101,  482, 4318,  475, 1543,\n",
      "         4324,    0,    0,    0,    0,    0],\n",
      "        [  63, 2016, 1618, 4160,  894,   66,  205, 1213, 5093, 3345, 4209, 1007,\n",
      "         3071, 1598,  394,   65,    0,    0],\n",
      "        [3609, 4515,  627, 1251, 2082,  584, 4377, 3447, 4397,  447,  628, 4940,\n",
      "         1423,  219,  911,   65,    0,    0],\n",
      "        [1240,  128,  253, 1413, 4748, 4554, 1669, 3071, 1791, 1674,  115, 1988,\n",
      "         3002, 2074, 1017,    0,    0,    0],\n",
      "        [ 586, 3108,  123, 1992,  200, 1502, 1483, 4539, 4508, 3294,   87, 3071,\n",
      "           66, 4385,    0,    0,    0,    0],\n",
      "        [ 161,  628, 4514,  606, 3686, 4940,   90, 1355, 4989, 3071, 3446, 4359,\n",
      "         4218, 4207,    0,    0,    0,    0],\n",
      "        [1401,   63,  871,  127,  132,   63,   63,  357,   63,  132,   63,    0,\n",
      "            0,    0,    0,    0,    0,    0],\n",
      "        [2051, 3686, 1691, 2101,  421, 4323, 4671, 1958,  224,   65, 2632,  894,\n",
      "           87,  220, 3345, 1366,  901,    0],\n",
      "        [1401,   63,  132,  871, 1401, 1401,  357, 4908,  132, 1401, 1401,    0,\n",
      "            0,    0,    0,    0,    0,    0],\n",
      "        [  63, 2016,  606,  178,  314, 2051, 3686, 1216, 1274, 3071, 4519, 1845,\n",
      "         1397,  607,    0,    0,    0,    0],\n",
      "        [ 672, 2124,  206, 1696, 1709,  220, 4262,  554,   66, 1024,  935, 2982,\n",
      "         3829,  338,    0,    0,    0,    0]])\n"
     ]
    }
   ],
   "source": [
    "for i, (data) in enumerate(tr_loader):\n",
    "    if(i>6706):\n",
    "        print(data[2])\n",
    "    if(i>6707):\n",
    "        break"
   ]
  },
  {
   "cell_type": "code",
   "execution_count": null,
   "metadata": {},
   "outputs": [],
   "source": [
    "IC0134W0228\n",
    "IC0134W0337\n",
    "IC0134W0382\n"
   ]
  }
 ],
 "metadata": {
  "kernelspec": {
   "display_name": "Python 3",
   "language": "python",
   "name": "python3"
  },
  "language_info": {
   "codemirror_mode": {
    "name": "ipython",
    "version": 3
   },
   "file_extension": ".py",
   "mimetype": "text/x-python",
   "name": "python",
   "nbconvert_exporter": "python",
   "pygments_lexer": "ipython3",
   "version": "3.8.3"
  }
 },
 "nbformat": 4,
 "nbformat_minor": 4
}
